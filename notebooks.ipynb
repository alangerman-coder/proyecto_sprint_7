{
 "cells": [
  {
   "cell_type": "code",
   "execution_count": 20,
   "id": "316196d6",
   "metadata": {},
   "outputs": [],
   "source": [
    "import pandas as pd\n",
    "import streamlit\n",
    "import plotly_express"
   ]
  },
  {
   "cell_type": "code",
   "execution_count": 21,
   "id": "89859db9",
   "metadata": {},
   "outputs": [
    {
     "name": "stdout",
     "output_type": "stream",
     "text": [
      "2.3.1\n",
      "1.46.1\n",
      "0.4.1\n"
     ]
    }
   ],
   "source": [
    "print(pd.__version__)\n",
    "print(streamlit.__version__)\n",
    "print(plotly_express.__version__)"
   ]
  }
 ],
 "metadata": {
  "kernelspec": {
   "display_name": ".venv",
   "language": "python",
   "name": "python3"
  },
  "language_info": {
   "codemirror_mode": {
    "name": "ipython",
    "version": 3
   },
   "file_extension": ".py",
   "mimetype": "text/x-python",
   "name": "python",
   "nbconvert_exporter": "python",
   "pygments_lexer": "ipython3",
   "version": "3.13.1"
  }
 },
 "nbformat": 4,
 "nbformat_minor": 5
}
