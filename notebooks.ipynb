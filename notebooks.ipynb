{
 "cells": [
  {
   "cell_type": "code",
   "execution_count": 6,
   "id": "c27901ee",
   "metadata": {},
   "outputs": [
    {
     "name": "stdout",
     "output_type": "stream",
     "text": [
      "Requirement already satisfied: pandas in c:\\users\\alan_\\anaconda3\\envs\\vehicles_env\\lib\\site-packages (2.3.1)\n",
      "Requirement already satisfied: numpy>=1.26.0 in c:\\users\\alan_\\anaconda3\\envs\\vehicles_env\\lib\\site-packages (from pandas) (2.3.1)\n",
      "Requirement already satisfied: python-dateutil>=2.8.2 in c:\\users\\alan_\\anaconda3\\envs\\vehicles_env\\lib\\site-packages (from pandas) (2.9.0.post0)\n",
      "Requirement already satisfied: pytz>=2020.1 in c:\\users\\alan_\\anaconda3\\envs\\vehicles_env\\lib\\site-packages (from pandas) (2025.2)\n",
      "Requirement already satisfied: tzdata>=2022.7 in c:\\users\\alan_\\anaconda3\\envs\\vehicles_env\\lib\\site-packages (from pandas) (2025.2)\n",
      "Requirement already satisfied: six>=1.5 in c:\\users\\alan_\\anaconda3\\envs\\vehicles_env\\lib\\site-packages (from python-dateutil>=2.8.2->pandas) (1.17.0)\n",
      "Note: you may need to restart the kernel to use updated packages.\n"
     ]
    }
   ],
   "source": [
    "%pip install pandas "
   ]
  },
  {
   "cell_type": "code",
   "execution_count": 2,
   "id": "6157dd62",
   "metadata": {},
   "outputs": [
    {
     "name": "stdout",
     "output_type": "stream",
     "text": [
      "Requirement already satisfied: streamlit in c:\\users\\alan_\\anaconda3\\envs\\vehicles_env\\lib\\site-packages (1.46.1)\n",
      "Requirement already satisfied: altair<6,>=4.0 in c:\\users\\alan_\\anaconda3\\envs\\vehicles_env\\lib\\site-packages (from streamlit) (5.5.0)\n",
      "Requirement already satisfied: blinker<2,>=1.5.0 in c:\\users\\alan_\\anaconda3\\envs\\vehicles_env\\lib\\site-packages (from streamlit) (1.9.0)\n",
      "Requirement already satisfied: cachetools<7,>=4.0 in c:\\users\\alan_\\anaconda3\\envs\\vehicles_env\\lib\\site-packages (from streamlit) (6.1.0)\n",
      "Requirement already satisfied: click<9,>=7.0 in c:\\users\\alan_\\anaconda3\\envs\\vehicles_env\\lib\\site-packages (from streamlit) (8.2.1)\n",
      "Requirement already satisfied: numpy<3,>=1.23 in c:\\users\\alan_\\anaconda3\\envs\\vehicles_env\\lib\\site-packages (from streamlit) (2.3.1)\n",
      "Requirement already satisfied: packaging<26,>=20 in c:\\users\\alan_\\anaconda3\\envs\\vehicles_env\\lib\\site-packages (from streamlit) (25.0)\n",
      "Requirement already satisfied: pandas<3,>=1.4.0 in c:\\users\\alan_\\anaconda3\\envs\\vehicles_env\\lib\\site-packages (from streamlit) (2.3.1)\n",
      "Requirement already satisfied: pillow<12,>=7.1.0 in c:\\users\\alan_\\anaconda3\\envs\\vehicles_env\\lib\\site-packages (from streamlit) (11.3.0)\n",
      "Requirement already satisfied: protobuf<7,>=3.20 in c:\\users\\alan_\\anaconda3\\envs\\vehicles_env\\lib\\site-packages (from streamlit) (6.31.1)\n",
      "Requirement already satisfied: pyarrow>=7.0 in c:\\users\\alan_\\anaconda3\\envs\\vehicles_env\\lib\\site-packages (from streamlit) (20.0.0)\n",
      "Requirement already satisfied: requests<3,>=2.27 in c:\\users\\alan_\\anaconda3\\envs\\vehicles_env\\lib\\site-packages (from streamlit) (2.32.4)\n",
      "Requirement already satisfied: tenacity<10,>=8.1.0 in c:\\users\\alan_\\anaconda3\\envs\\vehicles_env\\lib\\site-packages (from streamlit) (9.1.2)\n",
      "Requirement already satisfied: toml<2,>=0.10.1 in c:\\users\\alan_\\anaconda3\\envs\\vehicles_env\\lib\\site-packages (from streamlit) (0.10.2)\n",
      "Requirement already satisfied: typing-extensions<5,>=4.4.0 in c:\\users\\alan_\\anaconda3\\envs\\vehicles_env\\lib\\site-packages (from streamlit) (4.14.1)\n",
      "Requirement already satisfied: watchdog<7,>=2.1.5 in c:\\users\\alan_\\anaconda3\\envs\\vehicles_env\\lib\\site-packages (from streamlit) (6.0.0)\n",
      "Requirement already satisfied: gitpython!=3.1.19,<4,>=3.0.7 in c:\\users\\alan_\\anaconda3\\envs\\vehicles_env\\lib\\site-packages (from streamlit) (3.1.44)\n",
      "Requirement already satisfied: pydeck<1,>=0.8.0b4 in c:\\users\\alan_\\anaconda3\\envs\\vehicles_env\\lib\\site-packages (from streamlit) (0.9.1)\n",
      "Requirement already satisfied: tornado!=6.5.0,<7,>=6.0.3 in c:\\users\\alan_\\appdata\\roaming\\python\\python313\\site-packages (from streamlit) (6.4.2)\n",
      "Requirement already satisfied: jinja2 in c:\\users\\alan_\\anaconda3\\envs\\vehicles_env\\lib\\site-packages (from altair<6,>=4.0->streamlit) (3.1.6)\n",
      "Requirement already satisfied: jsonschema>=3.0 in c:\\users\\alan_\\anaconda3\\envs\\vehicles_env\\lib\\site-packages (from altair<6,>=4.0->streamlit) (4.24.0)\n",
      "Requirement already satisfied: narwhals>=1.14.2 in c:\\users\\alan_\\anaconda3\\envs\\vehicles_env\\lib\\site-packages (from altair<6,>=4.0->streamlit) (1.47.0)\n",
      "Requirement already satisfied: colorama in c:\\users\\alan_\\appdata\\roaming\\python\\python313\\site-packages (from click<9,>=7.0->streamlit) (0.4.6)\n",
      "Requirement already satisfied: gitdb<5,>=4.0.1 in c:\\users\\alan_\\anaconda3\\envs\\vehicles_env\\lib\\site-packages (from gitpython!=3.1.19,<4,>=3.0.7->streamlit) (4.0.12)\n",
      "Requirement already satisfied: smmap<6,>=3.0.1 in c:\\users\\alan_\\anaconda3\\envs\\vehicles_env\\lib\\site-packages (from gitdb<5,>=4.0.1->gitpython!=3.1.19,<4,>=3.0.7->streamlit) (5.0.2)\n",
      "Requirement already satisfied: python-dateutil>=2.8.2 in c:\\users\\alan_\\anaconda3\\envs\\vehicles_env\\lib\\site-packages (from pandas<3,>=1.4.0->streamlit) (2.9.0.post0)\n",
      "Requirement already satisfied: pytz>=2020.1 in c:\\users\\alan_\\anaconda3\\envs\\vehicles_env\\lib\\site-packages (from pandas<3,>=1.4.0->streamlit) (2025.2)\n",
      "Requirement already satisfied: tzdata>=2022.7 in c:\\users\\alan_\\anaconda3\\envs\\vehicles_env\\lib\\site-packages (from pandas<3,>=1.4.0->streamlit) (2025.2)\n",
      "Requirement already satisfied: charset_normalizer<4,>=2 in c:\\users\\alan_\\anaconda3\\envs\\vehicles_env\\lib\\site-packages (from requests<3,>=2.27->streamlit) (3.4.2)\n",
      "Requirement already satisfied: idna<4,>=2.5 in c:\\users\\alan_\\anaconda3\\envs\\vehicles_env\\lib\\site-packages (from requests<3,>=2.27->streamlit) (3.10)\n",
      "Requirement already satisfied: urllib3<3,>=1.21.1 in c:\\users\\alan_\\anaconda3\\envs\\vehicles_env\\lib\\site-packages (from requests<3,>=2.27->streamlit) (2.5.0)\n",
      "Requirement already satisfied: certifi>=2017.4.17 in c:\\users\\alan_\\anaconda3\\envs\\vehicles_env\\lib\\site-packages (from requests<3,>=2.27->streamlit) (2025.7.14)\n",
      "Requirement already satisfied: MarkupSafe>=2.0 in c:\\users\\alan_\\anaconda3\\envs\\vehicles_env\\lib\\site-packages (from jinja2->altair<6,>=4.0->streamlit) (3.0.2)\n",
      "Requirement already satisfied: attrs>=22.2.0 in c:\\users\\alan_\\anaconda3\\envs\\vehicles_env\\lib\\site-packages (from jsonschema>=3.0->altair<6,>=4.0->streamlit) (25.3.0)\n",
      "Requirement already satisfied: jsonschema-specifications>=2023.03.6 in c:\\users\\alan_\\anaconda3\\envs\\vehicles_env\\lib\\site-packages (from jsonschema>=3.0->altair<6,>=4.0->streamlit) (2025.4.1)\n",
      "Requirement already satisfied: referencing>=0.28.4 in c:\\users\\alan_\\anaconda3\\envs\\vehicles_env\\lib\\site-packages (from jsonschema>=3.0->altair<6,>=4.0->streamlit) (0.36.2)\n",
      "Requirement already satisfied: rpds-py>=0.7.1 in c:\\users\\alan_\\anaconda3\\envs\\vehicles_env\\lib\\site-packages (from jsonschema>=3.0->altair<6,>=4.0->streamlit) (0.26.0)\n",
      "Requirement already satisfied: six>=1.5 in c:\\users\\alan_\\anaconda3\\envs\\vehicles_env\\lib\\site-packages (from python-dateutil>=2.8.2->pandas<3,>=1.4.0->streamlit) (1.17.0)\n",
      "Note: you may need to restart the kernel to use updated packages.\n"
     ]
    }
   ],
   "source": [
    "%pip install streamlit"
   ]
  },
  {
   "cell_type": "code",
   "execution_count": 3,
   "id": "bd589753",
   "metadata": {},
   "outputs": [
    {
     "name": "stdout",
     "output_type": "stream",
     "text": [
      "Requirement already satisfied: plotly_express in c:\\users\\alan_\\anaconda3\\envs\\vehicles_env\\lib\\site-packages (0.4.1)\n",
      "Requirement already satisfied: pandas>=0.20.0 in c:\\users\\alan_\\anaconda3\\envs\\vehicles_env\\lib\\site-packages (from plotly_express) (2.3.1)\n",
      "Requirement already satisfied: plotly>=4.1.0 in c:\\users\\alan_\\anaconda3\\envs\\vehicles_env\\lib\\site-packages (from plotly_express) (6.2.0)\n",
      "Requirement already satisfied: statsmodels>=0.9.0 in c:\\users\\alan_\\anaconda3\\envs\\vehicles_env\\lib\\site-packages (from plotly_express) (0.14.5)\n",
      "Requirement already satisfied: scipy>=0.18 in c:\\users\\alan_\\anaconda3\\envs\\vehicles_env\\lib\\site-packages (from plotly_express) (1.16.0)\n",
      "Requirement already satisfied: patsy>=0.5 in c:\\users\\alan_\\anaconda3\\envs\\vehicles_env\\lib\\site-packages (from plotly_express) (1.0.1)\n",
      "Requirement already satisfied: numpy>=1.11 in c:\\users\\alan_\\anaconda3\\envs\\vehicles_env\\lib\\site-packages (from plotly_express) (2.3.1)\n",
      "Requirement already satisfied: python-dateutil>=2.8.2 in c:\\users\\alan_\\anaconda3\\envs\\vehicles_env\\lib\\site-packages (from pandas>=0.20.0->plotly_express) (2.9.0.post0)\n",
      "Requirement already satisfied: pytz>=2020.1 in c:\\users\\alan_\\anaconda3\\envs\\vehicles_env\\lib\\site-packages (from pandas>=0.20.0->plotly_express) (2025.2)\n",
      "Requirement already satisfied: tzdata>=2022.7 in c:\\users\\alan_\\anaconda3\\envs\\vehicles_env\\lib\\site-packages (from pandas>=0.20.0->plotly_express) (2025.2)\n",
      "Requirement already satisfied: narwhals>=1.15.1 in c:\\users\\alan_\\anaconda3\\envs\\vehicles_env\\lib\\site-packages (from plotly>=4.1.0->plotly_express) (1.47.0)\n",
      "Requirement already satisfied: packaging in c:\\users\\alan_\\anaconda3\\envs\\vehicles_env\\lib\\site-packages (from plotly>=4.1.0->plotly_express) (25.0)\n",
      "Requirement already satisfied: six>=1.5 in c:\\users\\alan_\\anaconda3\\envs\\vehicles_env\\lib\\site-packages (from python-dateutil>=2.8.2->pandas>=0.20.0->plotly_express) (1.17.0)\n",
      "Note: you may need to restart the kernel to use updated packages.\n"
     ]
    }
   ],
   "source": [
    "%pip install plotly_express"
   ]
  },
  {
   "cell_type": "code",
   "execution_count": 4,
   "id": "316196d6",
   "metadata": {},
   "outputs": [],
   "source": [
    "import pandas as pd\n",
    "import streamlit\n",
    "import plotly_express"
   ]
  },
  {
   "cell_type": "code",
   "execution_count": 5,
   "id": "89859db9",
   "metadata": {},
   "outputs": [
    {
     "name": "stdout",
     "output_type": "stream",
     "text": [
      "2.3.1\n",
      "1.46.1\n",
      "0.4.1\n"
     ]
    }
   ],
   "source": [
    "print(pd.__version__)\n",
    "print(streamlit.__version__)\n",
    "print(plotly_express.__version__)"
   ]
  }
 ],
 "metadata": {
  "kernelspec": {
   "display_name": "vehicles_env",
   "language": "python",
   "name": "python3"
  },
  "language_info": {
   "codemirror_mode": {
    "name": "ipython",
    "version": 3
   },
   "file_extension": ".py",
   "mimetype": "text/x-python",
   "name": "python",
   "nbconvert_exporter": "python",
   "pygments_lexer": "ipython3",
   "version": "3.13.5"
  }
 },
 "nbformat": 4,
 "nbformat_minor": 5
}
